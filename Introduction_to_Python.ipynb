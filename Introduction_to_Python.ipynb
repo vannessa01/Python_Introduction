{
  "cells": [
    {
      "cell_type": "markdown",
      "metadata": {
        "id": "view-in-github",
        "colab_type": "text"
      },
      "source": [
        "<a href=\"https://colab.research.google.com/github/vannessa01/Python_Journey/blob/main/Introduction_to_Python.ipynb\" target=\"_parent\"><img src=\"https://colab.research.google.com/assets/colab-badge.svg\" alt=\"Open In Colab\"/></a>"
      ]
    },
    {
      "cell_type": "markdown",
      "metadata": {
        "heading_collapsed": true,
        "id": "IQZPHNVGE0jj"
      },
      "source": [
        "# Introduction to Python"
      ]
    },
    {
      "cell_type": "markdown",
      "metadata": {
        "hidden": true,
        "id": "bQ7VJlKEE0jo"
      },
      "source": [
        "- Nama: Vannessa Yoanita Oktorio Naibaho"
      ]
    },
    {
      "cell_type": "code",
      "execution_count": 1,
      "metadata": {
        "ExecuteTime": {
          "end_time": "2020-11-12T13:26:22.209983Z",
          "start_time": "2020-11-12T13:26:21.360470Z"
        },
        "hidden": true,
        "id": "4g2oLkevE0jo"
      },
      "outputs": [],
      "source": [
        "import numpy as np\n",
        "\n",
        "# please import as much as you need"
      ]
    },
    {
      "cell_type": "markdown",
      "metadata": {
        "id": "cgd-tTOjE0jr"
      },
      "source": [
        "# Normal"
      ]
    },
    {
      "cell_type": "markdown",
      "metadata": {
        "heading_collapsed": true,
        "id": "ed8OiWGeE0jr"
      },
      "source": [
        "## 1. Operasi Variabel\n",
        "\n",
        "> Misal kita memiliki toko sepatu. Modal membeli 1 kodi sepatu adalah Rp 1.000.000. Setiap sepatu dijual seharga Rp 80.000. Buatlah variabel modal, kuantitas, dan harga_jual sesuai informasi di atas. Hitung profit yang didapatkan jika semua sepatu berhasil terjual, dan masukkan ke variabel profit.\n",
        "\n",
        "Saran langkah-langkah pengerjaan\n",
        "1. Convert terlebih dahulu kodi dalam jumlah barang (1 kodi = xyz buah sepatu)\n",
        "2. Gunakan operasi matematika sederhana untuk menghitung profit menggunakan tiga buah variabel yang sudah ditentukan"
      ]
    },
    {
      "cell_type": "code",
      "execution_count": 2,
      "metadata": {
        "ExecuteTime": {
          "end_time": "2021-10-23T10:20:16.843127Z",
          "start_time": "2021-10-23T10:20:16.835236Z"
        },
        "hidden": true,
        "id": "ThOB9tEME0js",
        "scrolled": true
      },
      "outputs": [],
      "source": [
        "# soal no 1\n",
        "modal = 1000000\n",
        "kuantitas = 20 #1 kodi = 20 buah\n",
        "harga_jual = 80000"
      ]
    },
    {
      "cell_type": "code",
      "execution_count": 3,
      "metadata": {
        "colab": {
          "base_uri": "https://localhost:8080/"
        },
        "id": "HnabChzt7tI4",
        "outputId": "f3ecde12-95d7-44df-8dc9-1ba39d9b3f65"
      },
      "outputs": [
        {
          "output_type": "stream",
          "name": "stdout",
          "text": [
            "600000\n"
          ]
        }
      ],
      "source": [
        "#hitung profit\n",
        "profit = harga_jual*kuantitas-modal\n",
        "print(profit)"
      ]
    },
    {
      "cell_type": "markdown",
      "metadata": {
        "hidden": true,
        "id": "8GaDbS89E0js"
      },
      "source": [
        "Jadi, dari profit di atas, dapat disimpulkan bahwa keuntungan yang diperoleh dari hasil penjualan sepatu sebesar 600000 rupiah.\n",
        "hasil ini diperoleh dengan mengalikan harga jual dengan kuantitas kemudian dikurangi dengan modal"
      ]
    },
    {
      "cell_type": "markdown",
      "metadata": {
        "id": "5oTZCAI4E0ju"
      },
      "source": [
        "## 2. Package Python dan Dictionary\n",
        "\n",
        "> Kita akan coba mengakses data scientific article dari PLOS corpus\n",
        "    Menggunakan API request dengan kode berikut : \n",
        "```\n",
        "import requests\n",
        "response = requests.get('http://api.plos.org/search?q=title:\"Drosophila\" AND body:\"RNA\"&fl=id,abstract')\n",
        "```\n",
        "**perhatikan tanda kutipnya tidak salah ketika meng-copy ke dalam python\n",
        "\n",
        "Pertanyaannya : \n",
        "Convert response.content dari request tersebut dari JSON Format ke dalam Dictionary, dan print-kan key di dalamnya apa saja\n",
        "\n",
        "Saran langkah-langkah pengerjaan\n",
        "1. Ikuti code yang tertera, kemudian ekstrak value dari variable response menggunakan dot (.) content menjadi sebuah variabel baru (dictionary)\n",
        "2. Gunakan library json, convert hasil content menggunakan json.loads\n",
        "3. Print keys dari dictionary tersebut\n"
      ]
    },
    {
      "cell_type": "code",
      "execution_count": null,
      "metadata": {
        "ExecuteTime": {
          "end_time": "2021-10-23T10:20:40.890513Z",
          "start_time": "2021-10-23T10:20:40.882963Z"
        },
        "id": "RY1kdZAUE0ju",
        "outputId": "821cbc30-3e8e-4ef4-fee0-e0ffdecc4129"
      },
      "outputs": [
        {
          "name": "stdout",
          "output_type": "stream",
          "text": [
            "<Response [200]>\n"
          ]
        }
      ],
      "source": [
        "# soal no 2\n",
        "import requests\n",
        "\n",
        "response = requests.get('http://api.plos.org/search?q=title:\"Drosophila\" AND body:\"RNA\"&fl=id,abstract')\n",
        "print(response)"
      ]
    },
    {
      "cell_type": "code",
      "execution_count": null,
      "metadata": {
        "id": "95EzImTA7tI_"
      },
      "outputs": [],
      "source": [
        "dataset = response.content"
      ]
    },
    {
      "cell_type": "code",
      "execution_count": null,
      "metadata": {
        "id": "L-shcQ147tI_"
      },
      "outputs": [],
      "source": [
        "import json"
      ]
    },
    {
      "cell_type": "code",
      "execution_count": null,
      "metadata": {
        "id": "TJDzB32t7tJA"
      },
      "outputs": [],
      "source": [
        "json.loads(dataset)"
      ]
    },
    {
      "cell_type": "code",
      "execution_count": null,
      "metadata": {
        "id": "9M7bPSB37tJB"
      },
      "outputs": [],
      "source": [
        "keys_dataset = dict.keys(json.loads(dataset))"
      ]
    },
    {
      "cell_type": "code",
      "execution_count": null,
      "metadata": {
        "id": "CSo7Q9W87tJB",
        "outputId": "625f69f4-7a8a-4381-84e5-bea9d9624baf"
      },
      "outputs": [
        {
          "name": "stdout",
          "output_type": "stream",
          "text": [
            "dict_keys(['response'])\n"
          ]
        }
      ],
      "source": [
        "print(keys_dataset)"
      ]
    },
    {
      "cell_type": "markdown",
      "metadata": {
        "id": "rvQnd_NgE0jv"
      },
      "source": [
        "Jadi, dari url link di atas, kami menyimpulkan bahwa memiliki keys 'response'"
      ]
    },
    {
      "cell_type": "markdown",
      "metadata": {
        "id": "wWstgpwIPDwR"
      },
      "source": [
        "# Intermediate"
      ]
    },
    {
      "cell_type": "markdown",
      "metadata": {
        "id": "AI0lJNgDE0jv"
      },
      "source": [
        "## 3. Operasi dalam List\n",
        "\n",
        "> Buatlah list dengan 10 nama kota di indonesia, kemudian:\n",
        "1. Urutkan nama kota di dalam list berdasarkan abjad (a)\n",
        "2. Ambil 4 kota pertama dari list tersebut (yang telah diurutkan) (b)\n",
        "3. Ambil 3 kota terakhir dari list tersebut (yang telah diurutkan) (c)\n",
        "\n",
        "Saran langkah-langkah pengerjaan\n",
        "1. Tidak ada ketentuan nama kota (misal berdasarkan provinsi X atau pulau Y), dibebaskan untuk memilih. Buat nama-nama kota tersebut dalam sebuah list.\n",
        "2. Gunakan fungsi sorted(X) untuk mengurutkan secara kecil-ke-besar (sesuai abjad), dimana X adalah contoh variabel list pada langkah (a)\n",
        "3. Gunakan hasil poin (a), urutkan nama kota di dalam list berdasarkan abjad, untuk mengerjakan poin (b) dan (c). "
      ]
    },
    {
      "cell_type": "code",
      "execution_count": null,
      "metadata": {
        "ExecuteTime": {
          "end_time": "2021-10-23T10:20:47.306584Z",
          "start_time": "2021-10-23T10:20:47.299827Z"
        },
        "id": "piGxWfIAE0jw",
        "scrolled": true,
        "outputId": "8be26e72-ddcd-40f9-9bb7-1f1f476cab57"
      },
      "outputs": [
        {
          "data": {
            "text/plain": [
              "['Bogor',\n",
              " 'Sukabumi',\n",
              " 'Cirebon',\n",
              " 'Semarang',\n",
              " 'Tegal',\n",
              " 'Malang',\n",
              " 'Yogyakarta',\n",
              " 'Kediri',\n",
              " 'Probolinggo',\n",
              " 'Jakarta']"
            ]
          },
          "execution_count": 34,
          "metadata": {},
          "output_type": "execute_result"
        }
      ],
      "source": [
        "# your code goes here!\n",
        "kota = [\"Bogor\", \"Sukabumi\", \"Cirebon\", \"Semarang\", \"Tegal\", \"Malang\", \"Yogyakarta\", \"Kediri\", \"Probolinggo\", \"Jakarta\"]\n",
        "kota"
      ]
    },
    {
      "cell_type": "code",
      "execution_count": null,
      "metadata": {
        "id": "SZWXl6oi7tJE",
        "outputId": "5742291f-5091-4f54-adb8-64381f968e56"
      },
      "outputs": [
        {
          "data": {
            "text/plain": [
              "['Bogor',\n",
              " 'Cirebon',\n",
              " 'Jakarta',\n",
              " 'Kediri',\n",
              " 'Malang',\n",
              " 'Probolinggo',\n",
              " 'Semarang',\n",
              " 'Sukabumi',\n",
              " 'Tegal',\n",
              " 'Yogyakarta']"
            ]
          },
          "execution_count": 39,
          "metadata": {},
          "output_type": "execute_result"
        }
      ],
      "source": [
        "# soal no 3\n",
        "kota_urut = sorted(kota)\n",
        "kota_urut"
      ]
    },
    {
      "cell_type": "code",
      "execution_count": null,
      "metadata": {
        "id": "Cnydex5n7tJF",
        "outputId": "9baa419f-e369-421c-bdbd-5d9d939fe916"
      },
      "outputs": [
        {
          "data": {
            "text/plain": [
              "['Bogor', 'Cirebon', 'Jakarta', 'Kediri']"
            ]
          },
          "execution_count": 40,
          "metadata": {},
          "output_type": "execute_result"
        }
      ],
      "source": [
        "#soal b ambil 4 kota pertama dari list yang sudah diurutkan\n",
        "kota_urut[0:4]"
      ]
    },
    {
      "cell_type": "code",
      "execution_count": null,
      "metadata": {
        "id": "cY7xxmuW7tJG",
        "outputId": "2f51b6fd-62d1-42f7-d9de-2740abdf523f"
      },
      "outputs": [
        {
          "data": {
            "text/plain": [
              "['Sukabumi', 'Tegal', 'Yogyakarta']"
            ]
          },
          "execution_count": 43,
          "metadata": {},
          "output_type": "execute_result"
        }
      ],
      "source": [
        "#soal c ambil 3 kota terakhir dari list yang sudah diurutkan\n",
        "kota_urut[7:11] # atau kota_urut[7:10]"
      ]
    },
    {
      "cell_type": "markdown",
      "metadata": {
        "id": "FpbGs5EaE0jw"
      },
      "source": [
        "Jadi, dari operasi list di atas, dapat disimpulkan bahwa\n",
        "a. urutan kota sesuai abjad adalah Bogor, Cirebon, Jakarta, Kediri, Malang, Probolinggo,Semarang,Sukabumi, Tegal, Yogyakarta\n",
        "b. 4 kota pertama dari list yang sudah diurutkan adalah Bogor, Cirebon, Jakarta, Kediri\n",
        "c. 3 kota terakhir dari list yang sudah diurutkan adalah Sukabumi, Tegal, Yogyakarta"
      ]
    },
    {
      "cell_type": "markdown",
      "metadata": {
        "id": "6nanVjCCE0jx"
      },
      "source": [
        "## 4. Function dalam List\n",
        "\n",
        "> Team sales memiliki list total transaksi dari 10 merchant pada bulan Juni 2020, yaitu: \n",
        "```\n",
        "total_transaksi = [ 19, 35, 23, 25, 10, 15, 33, 45, 21, 30 ]\n",
        "```\n",
        "1. Trx minimum\n",
        "2. Rata-rata \n",
        "3. Trx maksimal\n",
        "\n",
        "Saran langkah-langkah pengerjaan\n",
        "1. Copy variabel total_transaksi yang ada di soal ke notebook kita (atau ketik ulang boleh)\n",
        "2. Kemudian, hitung menggunakan function operasi dalam list yang telah dipelajari di kelas pada topik list. Print hasilnya setiap poin (a), (b), dan (c)"
      ]
    },
    {
      "cell_type": "code",
      "execution_count": null,
      "metadata": {
        "ExecuteTime": {
          "end_time": "2021-10-23T10:20:52.903045Z",
          "start_time": "2021-10-23T10:20:52.894900Z"
        },
        "id": "HxvjrB2RE0jx",
        "scrolled": true,
        "outputId": "b9a970c0-7319-478c-953d-5b6a23936814"
      },
      "outputs": [
        {
          "name": "stdout",
          "output_type": "stream",
          "text": [
            "10\n",
            "25.6\n",
            "45\n"
          ]
        }
      ],
      "source": [
        "# soal no 4\n",
        "total_transaksi = [ 19, 35, 23, 25, 10, 15, 33, 45, 21, 30 ]\n",
        "#point a\n",
        "print(min(total_transaksi))\n",
        "#point b\n",
        "print(sum(total_transaksi)/len(total_transaksi))\n",
        "#point c\n",
        "print(max(total_transaksi))"
      ]
    },
    {
      "cell_type": "markdown",
      "metadata": {
        "id": "UgHXbAOqE0jx"
      },
      "source": [
        "Jadi, dari hasil operasi list di atas, dapat disimpulkan bahwa nilai minimal: 10, max: 45, rata-rata: 25.6"
      ]
    },
    {
      "cell_type": "markdown",
      "metadata": {
        "id": "f4EkwISgE0jx"
      },
      "source": [
        "# Advanced"
      ]
    },
    {
      "cell_type": "markdown",
      "metadata": {
        "id": "fmaX-pu5E0jy"
      },
      "source": [
        "## 5. NumPy Array\n",
        "\n",
        "> Buatlah array dari 5 bilangan ganjil pertama (dimulai dari 1), Kemudian lakukan perintah berikut : \n",
        "1. Kali-kan array tersebut dengan 10\n",
        "2. Bagi-kan array (hasil dari bagian a) dengan 3\n",
        "3. Kali-kan array (hasil dari bagian b) dengan array baru :\n",
        "`[-45, 43, 3, 56, 5]`\n",
        "4. Carilah pada index ke-berapa nilai tertinggi dan terendah dari array (hasil dari bagian c) \n",
        "\n",
        "Saran langkah-langkah pengerjaan\n",
        "1. HATI-HATI dalam pengerjaan, karena apabila poin sebelumnya salah, maka selanjutnya akan kebawa salah (misal (b) salah, maka poin (c) sampai (d) akan salah)\n",
        "2. Untuk array 5 bilangan ganjil pertama boleh manual boleh menggunakan fungsi, dimulai dari 1\n",
        "3. Ikuti perintah soal, gunakan numpy array, jangan list. Sesuaikan dengan permintaan soal pada setiap butir.\n",
        "\n"
      ]
    },
    {
      "cell_type": "code",
      "execution_count": null,
      "metadata": {
        "ExecuteTime": {
          "end_time": "2021-10-23T10:20:59.988806Z",
          "start_time": "2021-10-23T10:20:59.980744Z"
        },
        "id": "VTTOjU8wE0jy",
        "scrolled": true
      },
      "outputs": [],
      "source": [
        "# soal no 5\n",
        "import numpy as np"
      ]
    },
    {
      "cell_type": "code",
      "execution_count": null,
      "metadata": {
        "id": "LLnfKwrD7tJM",
        "outputId": "20118173-0ce2-4838-b3b2-4512d07c41bd"
      },
      "outputs": [
        {
          "data": {
            "text/plain": [
              "array([1, 3, 5, 7, 9])"
            ]
          },
          "execution_count": 63,
          "metadata": {},
          "output_type": "execute_result"
        }
      ],
      "source": [
        "bilangan_ganjil = np.array([1, 3, 5, 7, 9])\n",
        "bilangan_ganjil"
      ]
    },
    {
      "cell_type": "code",
      "execution_count": null,
      "metadata": {
        "id": "d6l2-Ymc7tJN",
        "outputId": "d4dfd004-347c-4f15-b3e1-fa5d546ee1ac"
      },
      "outputs": [
        {
          "data": {
            "text/plain": [
              "array([10, 30, 50, 70, 90])"
            ]
          },
          "execution_count": 67,
          "metadata": {},
          "output_type": "execute_result"
        }
      ],
      "source": [
        "# a.Kali-kan array tersebut dengan 10\n",
        "x = bilangan_ganjil * 10\n",
        "x"
      ]
    },
    {
      "cell_type": "code",
      "execution_count": null,
      "metadata": {
        "id": "4BIErucP7tJO",
        "outputId": "1d79f6df-710a-4d05-c5e4-dfacfb11602b"
      },
      "outputs": [
        {
          "data": {
            "text/plain": [
              "array([ 3.33333333, 10.        , 16.66666667, 23.33333333, 30.        ])"
            ]
          },
          "execution_count": 93,
          "metadata": {},
          "output_type": "execute_result"
        }
      ],
      "source": [
        "# b.Bagi-kan array (hasil dari bagian a) dengan 3\n",
        "y = x / 3\n",
        "y"
      ]
    },
    {
      "cell_type": "code",
      "execution_count": null,
      "metadata": {
        "id": "jFYCvbsz7tJO",
        "outputId": "99bbd34f-01bc-4018-ad5c-518184db16a1"
      },
      "outputs": [
        {
          "data": {
            "text/plain": [
              "array([-150.        ,  430.        ,   50.        , 1306.66666667,\n",
              "        150.        ])"
            ]
          },
          "execution_count": 94,
          "metadata": {},
          "output_type": "execute_result"
        }
      ],
      "source": [
        "# c. Kali-kan array (hasil dari bagian b) dengan array baru : [-45, 43, 3, 56, 5]\n",
        "v = np.array([-45, 43, 3, 56, 5])\n",
        "v\n",
        "z  = y * v\n",
        "z"
      ]
    },
    {
      "cell_type": "code",
      "execution_count": null,
      "metadata": {
        "id": "Yu2i5JGY7tJP",
        "outputId": "816ea158-cb77-4f61-bbcc-2e0ed41dfe45"
      },
      "outputs": [
        {
          "data": {
            "text/plain": [
              "3"
            ]
          },
          "execution_count": 95,
          "metadata": {},
          "output_type": "execute_result"
        }
      ],
      "source": [
        "# d. Carilah pada index ke-berapa nilai tertinggi dan terendah dari array (hasil dari bagian c)\n",
        "index_max = np.argmax(z)\n",
        "index_max"
      ]
    },
    {
      "cell_type": "code",
      "execution_count": null,
      "metadata": {
        "id": "5JAhtdZE7tJQ",
        "outputId": "3d4f1db2-6e2d-400c-dc10-14a2e067913d"
      },
      "outputs": [
        {
          "data": {
            "text/plain": [
              "0"
            ]
          },
          "execution_count": 96,
          "metadata": {},
          "output_type": "execute_result"
        }
      ],
      "source": [
        "index_min = np.argmin(z)\n",
        "index_min"
      ]
    },
    {
      "cell_type": "markdown",
      "metadata": {
        "id": "wTkMvK_EE0jy"
      },
      "source": [
        "Jadi, dari hasil operasi numpy di atas, dapat disimpulkan bahwa a. hasil perkalian dengan array tersebut dengan 10 adalah 10, 30, 50, 70, 90. b. hasil pembagian array (hasil dari bagian a) dengan 3 adalah  3.33333333, 10, 16.66666667, 23.33333333, 30. c. hasil perkalian array (hasil dari bagian b) dengan array baru adalah -150, 430, 50, 1306.66666667, 150. d. index max: 3, index min: 0."
      ]
    },
    {
      "cell_type": "markdown",
      "metadata": {
        "id": "LLIlxgN3Pmwj"
      },
      "source": [
        "# Terimakasih, salam dari Bogor"
      ]
    }
  ],
  "metadata": {
    "colab": {
      "name": "Introduction to Python - Template Homework.ipynb",
      "provenance": [],
      "include_colab_link": true
    },
    "kernelspec": {
      "display_name": "Python 3 (ipykernel)",
      "language": "python",
      "name": "python3"
    },
    "language_info": {
      "codemirror_mode": {
        "name": "ipython",
        "version": 3
      },
      "file_extension": ".py",
      "mimetype": "text/x-python",
      "name": "python",
      "nbconvert_exporter": "python",
      "pygments_lexer": "ipython3",
      "version": "3.9.7"
    },
    "toc": {
      "base_numbering": 1,
      "nav_menu": {},
      "number_sections": true,
      "sideBar": true,
      "skip_h1_title": false,
      "title_cell": "Table of Contents",
      "title_sidebar": "Contents",
      "toc_cell": false,
      "toc_position": {},
      "toc_section_display": true,
      "toc_window_display": true
    }
  },
  "nbformat": 4,
  "nbformat_minor": 0
}