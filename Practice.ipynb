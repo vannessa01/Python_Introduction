{
  "cells": [
    {
      "cell_type": "markdown",
      "metadata": {
        "id": "view-in-github",
        "colab_type": "text"
      },
      "source": [
        "<a href=\"https://colab.research.google.com/github/vannessa01/Python_Introduction/blob/main/Practice.ipynb\" target=\"_parent\"><img src=\"https://colab.research.google.com/assets/colab-badge.svg\" alt=\"Open In Colab\"/></a>"
      ]
    },
    {
      "cell_type": "markdown",
      "source": [
        "### Menghitung Total Revenue dan Rata-Rata Revenue"
      ],
      "metadata": {
        "id": "0tK12f2rD_OK"
      },
      "id": "0tK12f2rD_OK"
    },
    {
      "cell_type": "code",
      "execution_count": null,
      "id": "6c418d84-e8e4-4d12-8dd4-630bcee7000b",
      "metadata": {
        "id": "6c418d84-e8e4-4d12-8dd4-630bcee7000b",
        "outputId": "a82fdf13-06a6-402d-937b-4648e7b95139"
      },
      "outputs": [
        {
          "name": "stdout",
          "output_type": "stream",
          "text": [
            "total revenue= 350000\n",
            "average revenue= 350.0\n"
          ]
        }
      ],
      "source": [
        "price = 1000\n",
        "quantity = 350\n",
        "total_revenue = price*quantity\n",
        "avg_revenue=(total_revenue)/price\n",
        "\n",
        "print('total revenue=', total_revenue)\n",
        "print('average revenue=', avg_revenue)\n"
      ]
    },
    {
      "cell_type": "markdown",
      "source": [
        "### Membuat Rumus"
      ],
      "metadata": {
        "id": "-R2oES0jERYd"
      },
      "id": "-R2oES0jERYd"
    },
    {
      "cell_type": "code",
      "execution_count": null,
      "id": "b3821577-b7d4-4f32-89aa-9997e9018654",
      "metadata": {
        "id": "b3821577-b7d4-4f32-89aa-9997e9018654",
        "outputId": "7640bd24-42a3-4dea-ec66-7019df300277"
      },
      "outputs": [
        {
          "name": "stdout",
          "output_type": "stream",
          "text": [
            "5.0\n"
          ]
        }
      ],
      "source": [
        "a = 3\n",
        "b = 4\n",
        "c = (a**2 + b**2)**0.5\n",
        "print (c)"
      ]
    }
  ],
  "metadata": {
    "kernelspec": {
      "display_name": "Python 3 (ipykernel)",
      "language": "python",
      "name": "python3"
    },
    "language_info": {
      "codemirror_mode": {
        "name": "ipython",
        "version": 3
      },
      "file_extension": ".py",
      "mimetype": "text/x-python",
      "name": "python",
      "nbconvert_exporter": "python",
      "pygments_lexer": "ipython3",
      "version": "3.9.7"
    },
    "colab": {
      "name": "Practice.ipynb",
      "provenance": [],
      "include_colab_link": true
    }
  },
  "nbformat": 4,
  "nbformat_minor": 5
}