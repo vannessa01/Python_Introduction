{
  "cells": [
    {
      "cell_type": "markdown",
      "metadata": {
        "id": "view-in-github",
        "colab_type": "text"
      },
      "source": [
        "<a href=\"https://colab.research.google.com/github/vannessa01/Python_Introduction/blob/main/Python_Basic.ipynb\" target=\"_parent\"><img src=\"https://colab.research.google.com/assets/colab-badge.svg\" alt=\"Open In Colab\"/></a>"
      ]
    },
    {
      "cell_type": "markdown",
      "metadata": {
        "id": "ygCFRIEDTcgs"
      },
      "source": [
        "### Jupyter Lab & Python Basic"
      ]
    },
    {
      "cell_type": "markdown",
      "metadata": {
        "id": "fpVLUcASTcgw"
      },
      "source": [
        "### 1. Onboard Pengenalan Jupyter Lab"
      ]
    },
    {
      "cell_type": "markdown",
      "metadata": {
        "id": "Sg8Z3wVmTcgw"
      },
      "source": [
        "1. Membuat File notebook\n",
        "2. Memberi nama File notebook\n",
        "3. Mengetahui pengaturan File \n",
        "    - Membuka file csv pada Jupyter Lab\n",
        "    - Mangamenet Directory\n",
        "4. Mengetahui beberapa navigasi pada Jupyter notebook\n",
        "    - Pada bagian header (File, Edit, View, Run, dst)\n",
        "    - Pada bagian left side (File Browser, Running Terminal and Kernel, Commands dll)\n",
        "    - Pada bagian run kernel (Save, Insert Cell, Copy) \n",
        "5. Memunculkan baris kode pada cell\n",
        "6. Membuat baris kode pertama (urutan baris kode itu penting dan case senstif) \n",
        "7. Mengenal Markdown. [Refrensi](https://www.example.com)"
      ]
    },
    {
      "cell_type": "code",
      "execution_count": 1,
      "metadata": {
        "id": "oOtEMfx8Tcgx"
      },
      "outputs": [],
      "source": [
        "nama = 'Adam'\n",
        "umur = 24"
      ]
    },
    {
      "cell_type": "code",
      "execution_count": 2,
      "metadata": {
        "id": "c9CQ0drmTcgz",
        "colab": {
          "base_uri": "https://localhost:8080/"
        },
        "outputId": "97010d69-4290-4aad-9a17-e55caad3b457"
      },
      "outputs": [
        {
          "output_type": "stream",
          "name": "stdout",
          "text": [
            "Adam\n"
          ]
        }
      ],
      "source": [
        "print(nama)"
      ]
    },
    {
      "cell_type": "markdown",
      "metadata": {
        "id": "jmUheEaRTcgz"
      },
      "source": [
        "# judul 1"
      ]
    },
    {
      "cell_type": "markdown",
      "metadata": {
        "id": "hByVK_JBTcg0"
      },
      "source": [
        "Halo semua, ini adalah keterangan"
      ]
    },
    {
      "cell_type": "markdown",
      "metadata": {
        "id": "bSKrvHnkTcg0"
      },
      "source": [
        "### 2. Variabel dan Tipe Data"
      ]
    },
    {
      "cell_type": "markdown",
      "metadata": {
        "id": "dIIq3SF_Tcg1"
      },
      "source": [
        "#### Variabel\n",
        "suatu entitas nama yang memiliki nilai dan nilai nya dapat diubah"
      ]
    },
    {
      "cell_type": "code",
      "execution_count": 3,
      "metadata": {
        "id": "xHupy2z7Tcg2"
      },
      "outputs": [],
      "source": [
        "tinggi_badan = 173"
      ]
    },
    {
      "cell_type": "markdown",
      "metadata": {
        "id": "WjIJ40vRTcg2"
      },
      "source": [
        "<span style=\"color:blue\">tinggi_badan</span> dalam konteks ini adalah variabel dan 173 adalah nilai yang diberikan pada variabel tinggi badan. nilai 173 dapat diubah.\n",
        "<br><span style='font-weight: bold'>Beberapa catatan pada variabel:</span>\n",
        "<br>1. Variabel akan error jika menggunakan spasi (contoh: tinggi badan = 168)\n",
        "<br>2. nama variable case sensitif (nama != Nama)\n",
        "<br>3. Jangan awali nama variabel dengan angka (1nama = 'Adam')\n",
        "<br>4. Nama variabel tidak mengandung special karakter (nama! = 'Adam')"
      ]
    },
    {
      "cell_type": "markdown",
      "metadata": {
        "id": "h-lsUPhzTcg3"
      },
      "source": [
        "#### Tipe Data"
      ]
    },
    {
      "cell_type": "markdown",
      "metadata": {
        "id": "IPvC-9qcTcg3"
      },
      "source": [
        "| Kategori | Tipe | Keterangan | Contoh Kode Python |\n",
        "| ----------- | ----------- | ----------- | ----------- |\n",
        "| Text | str | Menyatakan karakter/kalimat bisa berupa huruf angka, dll (diapit dengan \" atau ') | \"Bahasa Python\" |\n",
        "| Numeric | int | Menyatakan bilangan bulat | 45 atau 2000 |\n",
        "| Numeric | float | Menyatakan bilangan yang mempunyai koma | 3.14 atau 0.5 |\n",
        "| Boolean | bool | Menyatakan benar True atau salah False | True atau False |\n",
        "| Sequence | list | Menyatakan beberapa untaian data dalam berbagai tipe data dan isinya bisa diubah-ubah (mutable) | [\"Bakso\", 21, True] |\n",
        "| Sequence | tuple | Menyatakan beberapa untaian data dalam berbagai tipe data namun isinya tidak bisa diubah-ubah (immutable) | (\"Bakso\", 21, True) |\n",
        "| Mapping | dict | Menyatakan beberapa untaian data dalam berbagai tipe data dan memiliki key/petujuntuk dalam menyimpan setiap nilai nya | {\"nama\":\"Adam\", \"umur\":24} |\n",
        "| Set | set | Menyatakan beberapa untaian data dalam berbagai tipe data, setiap nilainya bernilai unik, dan tidak berurutan | {\"sate\", \"bakso\", \"mie ayam\"} |"
      ]
    },
    {
      "cell_type": "markdown",
      "metadata": {
        "id": "ebb2ICsCTcg4"
      },
      "source": [
        "[referensi](https://www.w3schools.com/python/python_datatypes.asp)"
      ]
    },
    {
      "cell_type": "markdown",
      "metadata": {
        "id": "H8at02emTcg4"
      },
      "source": [
        "#### Mari kita coba (Practice Makes Perfect)"
      ]
    },
    {
      "cell_type": "markdown",
      "metadata": {
        "id": "nVPCxpkMTcg4"
      },
      "source": [
        "##### String"
      ]
    },
    {
      "cell_type": "code",
      "execution_count": 4,
      "metadata": {
        "id": "g5qvk6BDTcg5",
        "colab": {
          "base_uri": "https://localhost:8080/"
        },
        "outputId": "9f458ccf-ae7c-486e-c4b7-cb1b4ae4bde3"
      },
      "outputs": [
        {
          "output_type": "execute_result",
          "data": {
            "text/plain": [
              "str"
            ]
          },
          "metadata": {},
          "execution_count": 4
        }
      ],
      "source": [
        "nama = 'Ammar'\n",
        "type(nama)"
      ]
    },
    {
      "cell_type": "markdown",
      "metadata": {
        "id": "6n6wSenHTcg5"
      },
      "source": [
        "##### Int"
      ]
    },
    {
      "cell_type": "code",
      "execution_count": 5,
      "metadata": {
        "id": "yvCU-_saTcg5",
        "colab": {
          "base_uri": "https://localhost:8080/"
        },
        "outputId": "f441ccd9-d578-433f-b845-5f7f7c43da3a"
      },
      "outputs": [
        {
          "output_type": "execute_result",
          "data": {
            "text/plain": [
              "int"
            ]
          },
          "metadata": {},
          "execution_count": 5
        }
      ],
      "source": [
        "luast_persegi = 150 \n",
        "type(luast_persegi)"
      ]
    },
    {
      "cell_type": "markdown",
      "metadata": {
        "id": "Bvc52pz3Tcg6"
      },
      "source": [
        "##### Float"
      ]
    },
    {
      "cell_type": "code",
      "execution_count": 6,
      "metadata": {
        "id": "sjprTbYBTcg6",
        "colab": {
          "base_uri": "https://localhost:8080/"
        },
        "outputId": "4814182d-b21c-4227-cb65-3d7d4d7bbb35"
      },
      "outputs": [
        {
          "output_type": "execute_result",
          "data": {
            "text/plain": [
              "float"
            ]
          },
          "metadata": {},
          "execution_count": 6
        }
      ],
      "source": [
        "index_prestasi = 3.7\n",
        "type(index_prestasi)"
      ]
    },
    {
      "cell_type": "markdown",
      "metadata": {
        "id": "-_u6HrZETcg6"
      },
      "source": [
        "##### Boolean"
      ]
    },
    {
      "cell_type": "code",
      "execution_count": 7,
      "metadata": {
        "id": "glf_sLhETcg6",
        "colab": {
          "base_uri": "https://localhost:8080/"
        },
        "outputId": "7fe474ee-8bd0-4bd1-edaa-86e4e9538f30"
      },
      "outputs": [
        {
          "output_type": "execute_result",
          "data": {
            "text/plain": [
              "bool"
            ]
          },
          "metadata": {},
          "execution_count": 7
        }
      ],
      "source": [
        "pelanggan_baru = True \n",
        "type(pelanggan_baru)"
      ]
    },
    {
      "cell_type": "markdown",
      "metadata": {
        "id": "lA3NFCMeTcg7"
      },
      "source": [
        "##### list"
      ]
    },
    {
      "cell_type": "code",
      "execution_count": 8,
      "metadata": {
        "id": "nvMKtBiCTcg7",
        "colab": {
          "base_uri": "https://localhost:8080/"
        },
        "outputId": "87e4f12a-11ab-4f16-c2df-cbb69065ebbc"
      },
      "outputs": [
        {
          "output_type": "execute_result",
          "data": {
            "text/plain": [
              "list"
            ]
          },
          "metadata": {},
          "execution_count": 8
        }
      ],
      "source": [
        "peserta_terbaik = ['Ammar', 'Adam', 'Putri']\n",
        "type(peserta_terbaik)"
      ]
    },
    {
      "cell_type": "code",
      "execution_count": 9,
      "metadata": {
        "id": "FNS84W3c-43p"
      },
      "outputs": [],
      "source": [
        "negarasaya = \"indonesia\"\n",
        "negarasayA = \"indonesia2\""
      ]
    },
    {
      "cell_type": "code",
      "execution_count": 10,
      "metadata": {
        "colab": {
          "base_uri": "https://localhost:8080/"
        },
        "id": "EUNtUVTG-43q",
        "outputId": "c1b2c565-b458-46d6-c75a-fa74189d4b0e"
      },
      "outputs": [
        {
          "output_type": "stream",
          "name": "stdout",
          "text": [
            "indonesia indonesia2\n"
          ]
        }
      ],
      "source": [
        "print(negarasaya, negarasayA)"
      ]
    },
    {
      "cell_type": "markdown",
      "metadata": {
        "id": "i_dK260c-43r"
      },
      "source": [
        "Penggunaan print dengan variable"
      ]
    },
    {
      "cell_type": "code",
      "execution_count": 11,
      "metadata": {
        "colab": {
          "base_uri": "https://localhost:8080/"
        },
        "id": "BVSO4Zhc-43r",
        "outputId": "24e2e8b7-0954-430f-9a29-0829a835c3bf"
      },
      "outputs": [
        {
          "output_type": "stream",
          "name": "stdout",
          "text": [
            "Nama saya adalah fikri\n",
            "Nama saya adalah aku fikri abc\n"
          ]
        }
      ],
      "source": [
        "aku = \"fikri\"\n",
        "print(\"Nama saya adalah\", aku)\n",
        "print(\"Nama saya adalah aku\", aku, \"abc\")"
      ]
    },
    {
      "cell_type": "code",
      "execution_count": 12,
      "metadata": {
        "colab": {
          "base_uri": "https://localhost:8080/"
        },
        "id": "fhIToKTe-43s",
        "outputId": "505465bc-5af8-4078-95b6-e136cc26c3d5"
      },
      "outputs": [
        {
          "output_type": "stream",
          "name": "stdout",
          "text": [
            "Nama saya adalah fikri umur saya adalah 24, tinggi badan 173\n",
            "Nama saya adalah fikri umur saya adalah 24 , tinggi badan 173\n"
          ]
        }
      ],
      "source": [
        "# Penggunaan print dengan variable dengan fungsi print(f\"\")\n",
        "print(f\"Nama saya adalah {aku} umur saya adalah {umur}, tinggi badan {tinggi_badan}\")\n",
        "print(\"Nama saya adalah\",aku,\"umur saya adalah\",umur, \", tinggi badan\", tinggi_badan)"
      ]
    },
    {
      "cell_type": "code",
      "execution_count": 13,
      "metadata": {
        "colab": {
          "base_uri": "https://localhost:8080/"
        },
        "id": "md-_2G1k-43t",
        "outputId": "47454f69-144f-4e26-b468-739ebf96c478"
      },
      "outputs": [
        {
          "output_type": "execute_result",
          "data": {
            "text/plain": [
              "['aku aku', 154545, True, [1, 2, 3, 4]]"
            ]
          },
          "metadata": {},
          "execution_count": 13
        }
      ],
      "source": [
        "aku_ganteng = [\"aku aku\", 154545, True, [1,2,3,4]]\n",
        "aku_ganteng"
      ]
    },
    {
      "cell_type": "markdown",
      "metadata": {
        "id": "K7lSRxLsTcg7"
      },
      "source": [
        "Lakukan untuk tipe data lainnya dengan mandiri ya . . ."
      ]
    },
    {
      "cell_type": "code",
      "execution_count": 14,
      "metadata": {
        "id": "FqsP-DJITcg7",
        "colab": {
          "base_uri": "https://localhost:8080/"
        },
        "outputId": "de7efd3c-19cf-451a-ccf5-dceac809c865"
      },
      "outputs": [
        {
          "output_type": "stream",
          "name": "stdout",
          "text": [
            "<class 'str'>\n",
            "<class 'int'>\n",
            "<class 'float'>\n",
            "<class 'bool'>\n",
            "<class 'list'>\n",
            "<class 'tuple'>\n",
            "<class 'dict'>\n",
            "<class 'set'>\n"
          ]
        }
      ],
      "source": [
        "print(type('Adam'))\n",
        "print(type(24))\n",
        "print(type(11.3))\n",
        "print(type(True))\n",
        "print(type(['Jawa','Sumatra']))\n",
        "print(type(('Sate','Bakso')))\n",
        "print(type({'name':'Adam','age':24}))\n",
        "print(type({'Adam','hasan'}))"
      ]
    },
    {
      "cell_type": "markdown",
      "metadata": {
        "id": "GdUPB6AGTcg8"
      },
      "source": [
        "#### Dasar Operasi Tipe Data"
      ]
    },
    {
      "cell_type": "code",
      "execution_count": 15,
      "metadata": {
        "id": "_25W1h86Tcg8"
      },
      "outputs": [],
      "source": [
        "tinggi_badan = 173"
      ]
    },
    {
      "cell_type": "markdown",
      "metadata": {
        "id": "xAIfwsc9Tcg8"
      },
      "source": [
        "#### Numeric"
      ]
    },
    {
      "cell_type": "code",
      "execution_count": 16,
      "metadata": {
        "id": "EV4oT2uoTcg8",
        "colab": {
          "base_uri": "https://localhost:8080/"
        },
        "outputId": "5f671ba0-16a2-4d13-a27d-447bc6f489f7"
      },
      "outputs": [
        {
          "output_type": "execute_result",
          "data": {
            "text/plain": [
              "5"
            ]
          },
          "metadata": {},
          "execution_count": 16
        }
      ],
      "source": [
        "a = 2\n",
        "b = 3\n",
        "#dilakukan operasi a dijumlahkan dengan b\n",
        "penjumlahan = a+b\n",
        "penjumlahan"
      ]
    },
    {
      "cell_type": "code",
      "execution_count": 17,
      "metadata": {
        "id": "dzOHRo6RTcg8",
        "colab": {
          "base_uri": "https://localhost:8080/"
        },
        "outputId": "e4321456-5891-414b-db2c-e63f7563cd6a"
      },
      "outputs": [
        {
          "output_type": "execute_result",
          "data": {
            "text/plain": [
              "6"
            ]
          },
          "metadata": {},
          "execution_count": 17
        }
      ],
      "source": [
        "a = 2\n",
        "b = 3\n",
        "#dilakukan operasi a dikalikan b\n",
        "perkalian = a*b\n",
        "perkalian"
      ]
    },
    {
      "cell_type": "code",
      "execution_count": 18,
      "metadata": {
        "id": "qpfwwgW3Tcg8",
        "colab": {
          "base_uri": "https://localhost:8080/"
        },
        "outputId": "39e9f265-1f6e-4215-e71f-1b2c4e7cb944"
      },
      "outputs": [
        {
          "output_type": "execute_result",
          "data": {
            "text/plain": [
              "10000"
            ]
          },
          "metadata": {},
          "execution_count": 18
        }
      ],
      "source": [
        "a = 100\n",
        "b = 2\n",
        "#dilakukan operasi a pangkat b\n",
        "pangkat = a**b\n",
        "pangkat"
      ]
    },
    {
      "cell_type": "code",
      "execution_count": 19,
      "metadata": {
        "id": "anj0odojTcg9",
        "colab": {
          "base_uri": "https://localhost:8080/"
        },
        "outputId": "57085687-05f9-4778-c849-757184ce1732"
      },
      "outputs": [
        {
          "output_type": "execute_result",
          "data": {
            "text/plain": [
              "False"
            ]
          },
          "metadata": {},
          "execution_count": 19
        }
      ],
      "source": [
        "a = 100\n",
        "b = 2\n",
        "#dilakukan pengecekan apakah a sama dengan b (symbol = 2kali) jika satu kali artinya pemberian nilai pada variabel\n",
        "a == b"
      ]
    },
    {
      "cell_type": "code",
      "execution_count": 20,
      "metadata": {
        "id": "uQMCbXlITcg9",
        "colab": {
          "base_uri": "https://localhost:8080/"
        },
        "outputId": "c5a0a317-dd30-4cc3-9bc4-0f23fc895709"
      },
      "outputs": [
        {
          "output_type": "execute_result",
          "data": {
            "text/plain": [
              "True"
            ]
          },
          "metadata": {},
          "execution_count": 20
        }
      ],
      "source": [
        "a = 100\n",
        "b = 2\n",
        "#dilakukan pengecekan apakah a lebih besar dari b\n",
        "a > b"
      ]
    },
    {
      "cell_type": "code",
      "execution_count": 21,
      "metadata": {
        "id": "4xByMb5fTcg9",
        "colab": {
          "base_uri": "https://localhost:8080/"
        },
        "outputId": "60c71b1e-8430-4c27-c936-f5464d762a8b"
      },
      "outputs": [
        {
          "output_type": "execute_result",
          "data": {
            "text/plain": [
              "True"
            ]
          },
          "metadata": {},
          "execution_count": 21
        }
      ],
      "source": [
        "a = 100\n",
        "b = 120\n",
        "#dilakukan pengecekan apakah a lebih kecil sama dengan dari b\n",
        "a <= b"
      ]
    },
    {
      "cell_type": "code",
      "execution_count": 23,
      "metadata": {
        "colab": {
          "base_uri": "https://localhost:8080/"
        },
        "id": "qut5LTnO-436",
        "outputId": "015de07d-cc6e-4403-e476-ea7af59be9de"
      },
      "outputs": [
        {
          "output_type": "execute_result",
          "data": {
            "text/plain": [
              "140"
            ]
          },
          "metadata": {},
          "execution_count": 23
        }
      ],
      "source": [
        "a = 100\n",
        "b = 120\n",
        "c = 80\n",
        "(a+b)-c"
      ]
    },
    {
      "cell_type": "markdown",
      "metadata": {
        "id": "3zT-n2t6Tcg9"
      },
      "source": [
        "#### Challenge 1"
      ]
    },
    {
      "cell_type": "code",
      "execution_count": 24,
      "metadata": {
        "id": "f5tG2GTJTcg9",
        "colab": {
          "base_uri": "https://localhost:8080/"
        },
        "outputId": "95a9e9ee-b8a2-40e6-ce3e-10b07d7f3106"
      },
      "outputs": [
        {
          "output_type": "stream",
          "name": "stdout",
          "text": [
            "3500000\n",
            "10000\n"
          ]
        }
      ],
      "source": [
        "# total_revenue\n",
        "\n",
        "price = 10000\n",
        "quantity = 350\n",
        "total_revenue = price * quantity \n",
        "avg_revenue = total_revenue / quantity\n",
        "avg_revenue = (price * quantity ) / quantity\n",
        "avg_revenue = price\n",
        "\n",
        "print(total_revenue)\n",
        "print(avg_revenue)"
      ]
    },
    {
      "cell_type": "markdown",
      "metadata": {
        "id": "bMEKyQ19Tcg-"
      },
      "source": [
        "#### Challenge 2"
      ]
    },
    {
      "cell_type": "markdown",
      "metadata": {
        "id": "TR_hLN8_Tcg-"
      },
      "source": [
        "### Rumus pythagoras\n",
        "\n",
        "[Pythagoras Formula](http://www.ncsm.city.nagoya.jp/exhibit_files/output/S424-pic1-en.jpg)"
      ]
    },
    {
      "cell_type": "code",
      "execution_count": 26,
      "metadata": {
        "id": "3-rJM8R6Tcg-",
        "colab": {
          "base_uri": "https://localhost:8080/"
        },
        "outputId": "e16f5b3f-db5f-4843-d37b-f55db9e6d1ce"
      },
      "outputs": [
        {
          "output_type": "stream",
          "name": "stdout",
          "text": [
            "5.0 5.0 5.0 5.0 5.0\n"
          ]
        }
      ],
      "source": [
        "import math\n",
        "# Tuliskan rumus pythagoras dalam python\n",
        "a = 3\n",
        "b = 4\n",
        "\n",
        "c1 = (a**2 + b**2)**(1/2)\n",
        "c2 = (a**2+b**2)**(1/2)\n",
        "c3 = math.sqrt(a**2 + b**2)\n",
        "c4 = math.sqrt(pow(a,2) + pow(b,2))\n",
        "c5 = pow(pow(a,2) + pow(b,2),1/2)\n",
        "print(c1,c2,c3,c4,c5)"
      ]
    },
    {
      "cell_type": "markdown",
      "metadata": {
        "id": "G3BtLhQaTcg-"
      },
      "source": [
        "#### String"
      ]
    },
    {
      "cell_type": "code",
      "execution_count": 27,
      "metadata": {
        "id": "nP0zjGjvTcg-"
      },
      "outputs": [],
      "source": [
        "nama_depan = 'Adam'\n",
        "nama_belakang = 'Ardiansyah'\n",
        "spasi = ' '\n",
        "\n",
        "nama_panjang = nama_depan + spasi + nama_belakang"
      ]
    },
    {
      "cell_type": "code",
      "execution_count": 28,
      "metadata": {
        "id": "sgWe3Ms8Tcg-",
        "colab": {
          "base_uri": "https://localhost:8080/"
        },
        "outputId": "e085d359-9757-4bd5-f4cd-916c71d06ae6"
      },
      "outputs": [
        {
          "output_type": "stream",
          "name": "stdout",
          "text": [
            "Adam Ardiansyah\n"
          ]
        }
      ],
      "source": [
        "print(nama_panjang)"
      ]
    },
    {
      "cell_type": "code",
      "execution_count": 29,
      "metadata": {
        "id": "CTZqmeiBTcg-"
      },
      "outputs": [],
      "source": [
        "# .replace(<before> , <after>)\n",
        "\n",
        "phone_number = '0812-2223-4445'\n",
        "clean_phone_number = phone_number.replace('-','') "
      ]
    },
    {
      "cell_type": "code",
      "execution_count": 30,
      "metadata": {
        "id": "Z_C2ZnKTTcg_",
        "colab": {
          "base_uri": "https://localhost:8080/"
        },
        "outputId": "3c1a70f3-3f41-40c3-dc83-6e4444eaf735"
      },
      "outputs": [
        {
          "output_type": "stream",
          "name": "stdout",
          "text": [
            "0812-2223-4445\n",
            "081222234445\n"
          ]
        }
      ],
      "source": [
        "print(phone_number)\n",
        "print(clean_phone_number)"
      ]
    },
    {
      "cell_type": "code",
      "execution_count": 31,
      "metadata": {
        "colab": {
          "base_uri": "https://localhost:8080/"
        },
        "id": "W2gKZzPK-44C",
        "outputId": "499c44c3-cb00-49de-9b87-d58c45550e10"
      },
      "outputs": [
        {
          "output_type": "stream",
          "name": "stdout",
          "text": [
            "====================================================================================================\n"
          ]
        }
      ],
      "source": [
        "#djsfifjidsfjdsifjdsf\n",
        "print(\"=\"*100)\n",
        "#fsdjfdsjfdisf"
      ]
    },
    {
      "cell_type": "code",
      "execution_count": 32,
      "metadata": {
        "colab": {
          "base_uri": "https://localhost:8080/"
        },
        "id": "VHCyK6ir-44D",
        "outputId": "65f080cc-6f78-4618-b6cd-13e22ad82750"
      },
      "outputs": [
        {
          "output_type": "stream",
          "name": "stdout",
          "text": [
            "adam ardiansyah\n",
            "Adam Ardiansyah\n"
          ]
        }
      ],
      "source": [
        "namaku = \"Adam Ardiansyah\"\n",
        "print(namaku.lower())\n",
        "print(namaku)"
      ]
    },
    {
      "cell_type": "code",
      "execution_count": 33,
      "metadata": {
        "colab": {
          "base_uri": "https://localhost:8080/"
        },
        "id": "P4XaCsF4-44D",
        "outputId": "211005e8-63ff-4463-b669-ca57e4a4ffc4"
      },
      "outputs": [
        {
          "output_type": "stream",
          "name": "stdout",
          "text": [
            "Adam Ardiansyah | adam ardiansyah\n"
          ]
        }
      ],
      "source": [
        "namaku = \"Adam Ardiansyah\"\n",
        "namaku2 = namaku.lower()\n",
        "print(namaku,\"|\",namaku2)"
      ]
    },
    {
      "cell_type": "markdown",
      "metadata": {
        "id": "fvL9Yf2o-44E"
      },
      "source": [
        "## Perbedaan string dengan '', \"\", dan  \"\"\" \"\"\""
      ]
    },
    {
      "cell_type": "code",
      "execution_count": null,
      "metadata": {
        "id": "RV46FjaB-44F"
      },
      "outputs": [],
      "source": [
        "nama = 'aha'\n",
        "print('I'd like to eat pizza')\n",
        "# Ini error"
      ]
    },
    {
      "cell_type": "code",
      "execution_count": 35,
      "metadata": {
        "colab": {
          "base_uri": "https://localhost:8080/",
          "height": 35
        },
        "id": "cjqdvue--44G",
        "outputId": "67d308db-b0fe-4701-8830-231ab9d63aef"
      },
      "outputs": [
        {
          "output_type": "execute_result",
          "data": {
            "text/plain": [
              "\"I'd like to eat pizza\""
            ],
            "application/vnd.google.colaboratory.intrinsic+json": {
              "type": "string"
            }
          },
          "metadata": {},
          "execution_count": 35
        }
      ],
      "source": [
        "# Gunakan \"\" jika string mengandung '\n",
        "\"I'd like to eat pizza\""
      ]
    },
    {
      "cell_type": "code",
      "execution_count": 36,
      "metadata": {
        "colab": {
          "base_uri": "https://localhost:8080/",
          "height": 35
        },
        "id": "Y2uM-Wae-44G",
        "outputId": "1092be45-5902-411a-db37-406f981d8a2f"
      },
      "outputs": [
        {
          "output_type": "execute_result",
          "data": {
            "text/plain": [
              "'panggil saja dia \"mawar\"'"
            ],
            "application/vnd.google.colaboratory.intrinsic+json": {
              "type": "string"
            }
          },
          "metadata": {},
          "execution_count": 36
        }
      ],
      "source": [
        "# Gunakan '' jika string mengandung \"\n",
        "nama = \"aha\"\n",
        "'panggil saja dia \"mawar\"'"
      ]
    },
    {
      "cell_type": "code",
      "execution_count": 37,
      "metadata": {
        "colab": {
          "base_uri": "https://localhost:8080/",
          "height": 35
        },
        "id": "wWYgb4f3-44I",
        "outputId": "396bfe88-5e8c-4062-f684-0d2059722c16"
      },
      "outputs": [
        {
          "output_type": "execute_result",
          "data": {
            "text/plain": [
              "'panggil saja dia \"mawar\", dia itu i\\'d like \\ndsfdsf\\ndsfsd'"
            ],
            "application/vnd.google.colaboratory.intrinsic+json": {
              "type": "string"
            }
          },
          "metadata": {},
          "execution_count": 37
        }
      ],
      "source": [
        "# Gunakan \"\"\" \"\"\" jika string mengandung \" dan atau '\n",
        "nama = \"\"\"panggil saja dia \"mawar\", dia itu i'd like \n",
        "dsfdsf\n",
        "dsfsd\"\"\"\n",
        "nama"
      ]
    },
    {
      "cell_type": "code",
      "execution_count": 38,
      "metadata": {
        "id": "r5O86iirTcg_",
        "colab": {
          "base_uri": "https://localhost:8080/",
          "height": 35
        },
        "outputId": "f99fb322-ab05-4811-dfd6-c7cede56244a"
      },
      "outputs": [
        {
          "output_type": "execute_result",
          "data": {
            "text/plain": [
              "'jakarta'"
            ],
            "application/vnd.google.colaboratory.intrinsic+json": {
              "type": "string"
            }
          },
          "metadata": {},
          "execution_count": 38
        }
      ],
      "source": [
        "huruf_besar = 'JAKARTA'\n",
        "huruf_besar.lower()"
      ]
    },
    {
      "cell_type": "code",
      "execution_count": 39,
      "metadata": {
        "id": "JxLRx67TTcg_",
        "colab": {
          "base_uri": "https://localhost:8080/",
          "height": 35
        },
        "outputId": "d3d032ac-4dd6-4555-c8b5-c20237e2f8b7"
      },
      "outputs": [
        {
          "output_type": "execute_result",
          "data": {
            "text/plain": [
              "'JAKARTA'"
            ],
            "application/vnd.google.colaboratory.intrinsic+json": {
              "type": "string"
            }
          },
          "metadata": {},
          "execution_count": 39
        }
      ],
      "source": [
        "huruf_kecil = 'jakarta'\n",
        "huruf_kecil.upper()"
      ]
    },
    {
      "cell_type": "code",
      "execution_count": 40,
      "metadata": {
        "id": "qnr6cCtlTcg_",
        "colab": {
          "base_uri": "https://localhost:8080/",
          "height": 35
        },
        "outputId": "9e1fc305-d1fd-42f4-cb4b-f7ddc356de59"
      },
      "outputs": [
        {
          "output_type": "execute_result",
          "data": {
            "text/plain": [
              "'Ibu bersama ayah pergi ke pasar'"
            ],
            "application/vnd.google.colaboratory.intrinsic+json": {
              "type": "string"
            }
          },
          "metadata": {},
          "execution_count": 40
        }
      ],
      "source": [
        "kalimat = 'Ibu dan ayah pergi ke pasar'\n",
        "kalimat.replace('dan', 'bersama') #merubah kata dan menjadi bersama"
      ]
    },
    {
      "cell_type": "code",
      "execution_count": 41,
      "metadata": {
        "id": "SeTdIqW5Tcg_",
        "colab": {
          "base_uri": "https://localhost:8080/"
        },
        "outputId": "179503e9-011c-4208-9c3f-cdd8303a8245"
      },
      "outputs": [
        {
          "output_type": "execute_result",
          "data": {
            "text/plain": [
              "True"
            ]
          },
          "metadata": {},
          "execution_count": 41
        }
      ],
      "source": [
        "kategori = 'Bakso' #membuat variabel kategori dengan value Bakso\n",
        "kategori == 'Bakso' #apakah kategori bervalue Bakso"
      ]
    },
    {
      "cell_type": "code",
      "execution_count": 42,
      "metadata": {
        "colab": {
          "base_uri": "https://localhost:8080/"
        },
        "id": "iwj-lDF1-44M",
        "outputId": "f5d1fdff-6c09-4e5a-a427-f844e875d484"
      },
      "outputs": [
        {
          "output_type": "execute_result",
          "data": {
            "text/plain": [
              "True"
            ]
          },
          "metadata": {},
          "execution_count": 42
        }
      ],
      "source": [
        "'bakso' == \"bakso\""
      ]
    },
    {
      "cell_type": "code",
      "execution_count": 43,
      "metadata": {
        "colab": {
          "base_uri": "https://localhost:8080/"
        },
        "id": "MoW6Hn5j-44M",
        "outputId": "6a3d9197-1171-4eed-a20e-398dd2710bfd"
      },
      "outputs": [
        {
          "output_type": "execute_result",
          "data": {
            "text/plain": [
              "False"
            ]
          },
          "metadata": {},
          "execution_count": 43
        }
      ],
      "source": [
        "'bakso' == 'Bakso' #Berbeda karena B nya yang satu besar yang satu kecil"
      ]
    },
    {
      "cell_type": "markdown",
      "metadata": {
        "id": "cCDCs1MtTcg_"
      },
      "source": [
        "#### Boolean"
      ]
    },
    {
      "cell_type": "markdown",
      "metadata": {
        "id": "AJXvcc-fTchA"
      },
      "source": [
        "Operasi\n",
        "1. and atau & \n",
        "2. or atau |\n",
        "3. not"
      ]
    },
    {
      "cell_type": "code",
      "execution_count": 44,
      "metadata": {
        "id": "XdBLuF3bTchA",
        "colab": {
          "base_uri": "https://localhost:8080/"
        },
        "outputId": "10bffadf-bb65-40f5-d0c4-5827493d67d9"
      },
      "outputs": [
        {
          "output_type": "execute_result",
          "data": {
            "text/plain": [
              "True"
            ]
          },
          "metadata": {},
          "execution_count": 44
        }
      ],
      "source": [
        "mei = 10000\n",
        "juni = 12000\n",
        "\n",
        "mei < juni #apakah bulan mei lebih kecil dari juni "
      ]
    },
    {
      "cell_type": "code",
      "execution_count": 45,
      "metadata": {
        "id": "O6f9KcbuTchA",
        "colab": {
          "base_uri": "https://localhost:8080/"
        },
        "outputId": "99f43dc1-bf0c-479c-b347-ecf86d20d2e4"
      },
      "outputs": [
        {
          "output_type": "execute_result",
          "data": {
            "text/plain": [
              "False"
            ]
          },
          "metadata": {},
          "execution_count": 45
        }
      ],
      "source": [
        "nama1 = 'Ammar'\n",
        "nama1 == 'Hasan' #apakah value nama1 sama dengan Hasan?"
      ]
    },
    {
      "cell_type": "code",
      "execution_count": null,
      "metadata": {
        "id": "bymnTkE3-44Q",
        "outputId": "cae8a73b-96ab-4195-ffce-67079f1fca48"
      },
      "outputs": [
        {
          "data": {
            "text/plain": [
              "True"
            ]
          },
          "execution_count": 68,
          "metadata": {},
          "output_type": "execute_result"
        }
      ],
      "source": [
        "a = 5\n",
        "b = 10\n",
        "a < b\n",
        "# 5 < 10"
      ]
    },
    {
      "cell_type": "code",
      "execution_count": null,
      "metadata": {
        "id": "qIpXbU-ITchA",
        "outputId": "246607ec-d95f-4237-9aec-d3e22e8fa78c"
      },
      "outputs": [
        {
          "data": {
            "text/plain": [
              "False"
            ]
          },
          "execution_count": 71,
          "metadata": {},
          "output_type": "execute_result"
        }
      ],
      "source": [
        "not (a < b) # harusnya true, tapi dinegasikan jadi False"
      ]
    },
    {
      "cell_type": "code",
      "execution_count": null,
      "metadata": {
        "id": "7LuZ68mKTchA",
        "outputId": "cdfbc71d-820c-4a53-d794-a30e12fbb8d8"
      },
      "outputs": [
        {
          "data": {
            "text/plain": [
              "True"
            ]
          },
          "execution_count": 70,
          "metadata": {},
          "output_type": "execute_result"
        }
      ],
      "source": [
        "not (a > b) # harusnya false, tapi dinegasikan jadi True"
      ]
    },
    {
      "cell_type": "code",
      "execution_count": null,
      "metadata": {
        "id": "lIJH9pFq-44S",
        "outputId": "03e1f9a1-a71b-430a-8ec2-735e54729888"
      },
      "outputs": [
        {
          "data": {
            "text/plain": [
              "False"
            ]
          },
          "execution_count": 74,
          "metadata": {},
          "output_type": "execute_result"
        }
      ],
      "source": [
        "c = a < b # True\n",
        "d = a > b # False\n",
        "\n",
        "c and d"
      ]
    },
    {
      "cell_type": "code",
      "execution_count": null,
      "metadata": {
        "id": "i9f4LnB0TchA",
        "outputId": "d88606a2-99f5-4ac1-9b39-56c6fe9c84e7"
      },
      "outputs": [
        {
          "data": {
            "text/plain": [
              "False"
            ]
          },
          "execution_count": 75,
          "metadata": {},
          "output_type": "execute_result"
        }
      ],
      "source": [
        "True and False"
      ]
    },
    {
      "cell_type": "code",
      "execution_count": null,
      "metadata": {
        "id": "vlM5kcNcTchB",
        "outputId": "dca684bd-32d8-47e2-ac5f-a6728e904989"
      },
      "outputs": [
        {
          "data": {
            "text/plain": [
              "False"
            ]
          },
          "execution_count": 76,
          "metadata": {},
          "output_type": "execute_result"
        }
      ],
      "source": [
        "a = 6\n",
        "b = 7\n",
        "c = 1\n",
        "\n",
        "(a < b) and (a < c) #True and False maka False\n",
        "# 6 < 7  and  6 < 1\n",
        "# True        False"
      ]
    },
    {
      "cell_type": "code",
      "execution_count": null,
      "metadata": {
        "id": "3OvhGPyYTchB",
        "outputId": "181a2797-0c23-4f6a-96ea-13523bf28734"
      },
      "outputs": [
        {
          "data": {
            "text/plain": [
              "True"
            ]
          },
          "execution_count": 77,
          "metadata": {},
          "output_type": "execute_result"
        }
      ],
      "source": [
        "(a < b) or (a < c) #True or False"
      ]
    },
    {
      "cell_type": "code",
      "execution_count": null,
      "metadata": {
        "id": "FfGACI1jTchB"
      },
      "outputs": [],
      "source": [
        "kategori = 'Makanan'\n",
        "jumlah_order = 67\n",
        "jumlah_visit = 102\n",
        "\n",
        "(not (kategori == 'Sepeda')) and (jumlah_visit >= 100) and (jumlah_order >= 67)"
      ]
    },
    {
      "cell_type": "markdown",
      "metadata": {
        "id": "gXrKga8tTchB"
      },
      "source": [
        "#### Perubahan Tipe Data"
      ]
    },
    {
      "cell_type": "code",
      "execution_count": null,
      "metadata": {
        "id": "9Ym1Huk2TchB",
        "outputId": "792c7a93-f771-43c1-d91b-699b30916bd4"
      },
      "outputs": [
        {
          "name": "stdout",
          "output_type": "stream",
          "text": [
            "<class 'str'>\n",
            "<class 'int'>\n",
            "<class 'int'>\n"
          ]
        }
      ],
      "source": [
        "a = 1 #int\n",
        "a = str(a) #dirubah menjadi string\n",
        "\n",
        "b = '087852279437' #string\n",
        "b = int(b) #dirubah menjadi int\n",
        "\n",
        "c = 123.011 #float\n",
        "c = int(c) #dirubah menjadi int\n",
        "\n",
        "print(type(a))\n",
        "print(type(b))\n",
        "print(type(c))"
      ]
    },
    {
      "cell_type": "code",
      "execution_count": null,
      "metadata": {
        "id": "7zLEf7ku-44X",
        "outputId": "17ba1392-8179-4c0f-9083-9ac7f7893049"
      },
      "outputs": [
        {
          "data": {
            "text/plain": [
              "'22222'"
            ]
          },
          "execution_count": 84,
          "metadata": {},
          "output_type": "execute_result"
        }
      ],
      "source": [
        "'2' * 5"
      ]
    },
    {
      "cell_type": "code",
      "execution_count": null,
      "metadata": {
        "id": "N5GFw4AtTchB"
      },
      "outputs": [],
      "source": [
        "nama = 'Adam'\n",
        "usia = 23\n",
        "\n",
        "nama + usia"
      ]
    },
    {
      "cell_type": "markdown",
      "metadata": {
        "id": "ElUzRwXiTchC"
      },
      "source": [
        "Agar tidak terjadi <span style=\"color:red\">error</span> maka kita perlu merubah tipe data usia menjadi string"
      ]
    },
    {
      "cell_type": "code",
      "execution_count": null,
      "metadata": {
        "id": "NKOkNRHGTchC",
        "outputId": "abb3f29b-ecc8-4951-d2e9-1893f32eaef9"
      },
      "outputs": [
        {
          "data": {
            "text/plain": [
              "'Adam23'"
            ]
          },
          "execution_count": 86,
          "metadata": {},
          "output_type": "execute_result"
        }
      ],
      "source": [
        "nama = 'Adam'\n",
        "usia = 23\n",
        "\n",
        "nama + str(usia)"
      ]
    },
    {
      "cell_type": "markdown",
      "metadata": {
        "id": "LfVtdZnJTchC"
      },
      "source": [
        "#### Mengatur jumlah angka di belakang Koma"
      ]
    },
    {
      "cell_type": "code",
      "execution_count": null,
      "metadata": {
        "id": "cqvgbQefTchC",
        "outputId": "f5da34fc-b599-4a54-b8db-6b56cc2645d0"
      },
      "outputs": [
        {
          "data": {
            "text/plain": [
              "3.142857142857143"
            ]
          },
          "execution_count": 88,
          "metadata": {},
          "output_type": "execute_result"
        }
      ],
      "source": [
        "#123/7\n",
        "22/7"
      ]
    },
    {
      "cell_type": "code",
      "execution_count": null,
      "metadata": {
        "id": "stnd23DPTchC",
        "outputId": "a40762d0-c43d-4fea-f578-f4ccca0b4693"
      },
      "outputs": [
        {
          "data": {
            "text/plain": [
              "16.57"
            ]
          },
          "execution_count": 89,
          "metadata": {},
          "output_type": "execute_result"
        }
      ],
      "source": [
        "a = 16.571428571428573\n",
        "round(a, 2) #bulatkan variabel a 2 angka di belakang koma"
      ]
    },
    {
      "cell_type": "code",
      "execution_count": null,
      "metadata": {
        "id": "6aCJ6o8k-44c",
        "outputId": "035542a1-ebaf-49bd-8eec-c9954ccdb891"
      },
      "outputs": [
        {
          "data": {
            "text/plain": [
              "3.142857142857143"
            ]
          },
          "execution_count": 91,
          "metadata": {},
          "output_type": "execute_result"
        }
      ],
      "source": [
        "round(22/7,100)"
      ]
    },
    {
      "cell_type": "markdown",
      "metadata": {
        "id": "0JBsLnftTchC"
      },
      "source": [
        "#### Challenge 3"
      ]
    },
    {
      "cell_type": "markdown",
      "metadata": {
        "id": "2Eg3o6ZHTchC"
      },
      "source": [
        "Misalkan a = 12, b = 20, c = 16.\n",
        "Buatlah bentuk kondisional untuk mengecek:"
      ]
    },
    {
      "cell_type": "code",
      "execution_count": null,
      "metadata": {
        "id": "G-BqG4_gTchC",
        "outputId": "9c3c7666-b290-473c-fb94-60013b4d8d6a"
      },
      "outputs": [
        {
          "name": "stdout",
          "output_type": "stream",
          "text": [
            "True\n"
          ]
        }
      ],
      "source": [
        "a = 12\n",
        "b = 20\n",
        "c = 16\n",
        "\n",
        "logic_1 = (a**2 + b**2 == c**2)\n",
        "logic_2 = (b**2 + c**2 == a**2)\n",
        "logic_3 = (a**2 + c**2 == b**2)\n",
        "\n",
        "print(logic_1 or logic_2 or logic_3)"
      ]
    },
    {
      "cell_type": "markdown",
      "metadata": {
        "id": "meVDdGOZ-44e"
      },
      "source": [
        "Misalkan 3 variabel data penjualan di bawah ini masih belum dibersihkan.\n",
        "\n",
        "1. penjualan_1 = ‘2,000’\n",
        "2. penjualan_2 = ‘1,200’\n",
        "3. penjualan_3 = ‘3,200’\n",
        "\n",
        "Buatlah kode python untuk membersihkan dan menjumlahkan total penjualan dari hari ke-1,2, dan 3."
      ]
    },
    {
      "cell_type": "code",
      "execution_count": null,
      "metadata": {
        "id": "aYt9ifp9TchD",
        "outputId": "eb995455-e762-4618-c278-37e4cce26491"
      },
      "outputs": [
        {
          "name": "stdout",
          "output_type": "stream",
          "text": [
            "6400\n"
          ]
        }
      ],
      "source": [
        "#penjualan_1 = ‘2,000’\n",
        "#penjualan_2 = ‘1,200’\n",
        "#penjualan_3 = ‘3,200’\n",
        "\n",
        "penjualan_1 = '2000'\n",
        "penjualan_2 = '1200'\n",
        "penjualan_3 = '3200'\n",
        "\n",
        "print(int(penjualan_1) + int(penjualan_2) + int(penjualan_3))"
      ]
    },
    {
      "cell_type": "markdown",
      "metadata": {
        "id": "jXqFQ8-HTchD"
      },
      "source": [
        "### 3. Package"
      ]
    },
    {
      "cell_type": "code",
      "execution_count": null,
      "metadata": {
        "id": "CJ5naiIITchD"
      },
      "outputs": [],
      "source": [
        "import pandas as pd\n",
        "import numpy as np"
      ]
    }
  ],
  "metadata": {
    "colab": {
      "name": "Python_Basic.ipynb",
      "provenance": [],
      "include_colab_link": true
    },
    "kernelspec": {
      "display_name": "Python 3 (ipykernel)",
      "language": "python",
      "name": "python3"
    },
    "language_info": {
      "codemirror_mode": {
        "name": "ipython",
        "version": 3
      },
      "file_extension": ".py",
      "mimetype": "text/x-python",
      "name": "python",
      "nbconvert_exporter": "python",
      "pygments_lexer": "ipython3",
      "version": "3.9.7"
    }
  },
  "nbformat": 4,
  "nbformat_minor": 0
}